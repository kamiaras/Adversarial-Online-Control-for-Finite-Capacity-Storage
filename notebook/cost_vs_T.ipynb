{
  "cells": [
    {
      "cell_type": "code",
      "execution_count": 16,
      "id": "d8696ba3",
      "metadata": {},
      "outputs": [],
      "source": [
        "from pathlib import Path\n",
        "import sys\n",
        "\n",
        "PROJECT_ROOT = Path.cwd()\n",
        "# Locate repo root so imports from src work even if notebook moves\n",
        "while PROJECT_ROOT != PROJECT_ROOT.parent and not (PROJECT_ROOT / 'src').exists():\n",
        "    PROJECT_ROOT = PROJECT_ROOT.parent\n",
        "\n",
        "if not (PROJECT_ROOT / 'src').exists():\n",
        "    raise RuntimeError(\"Could not locate 'src' directory relative to this notebook\")\n",
        "\n",
        "if str(PROJECT_ROOT) not in sys.path:\n",
        "    sys.path.insert(0, str(PROJECT_ROOT))\n"
      ]
    },
    {
      "cell_type": "markdown",
      "metadata": {},
      "source": [
        "# Cost Gap vs Horizon Length\n"
      ]
    },
    {
      "cell_type": "markdown",
      "metadata": {},
      "source": [
        "We compare the offline optimal controller against EGPC under bursty arrivals\n",
        "for several horizon lengths `T`. The cost gap is the total cost difference\n",
        "`EGPC - optimal`."
      ]
    },
    {
      "cell_type": "code",
      "execution_count": 17,
      "metadata": {},
      "outputs": [],
      "source": [
        "import numpy as np\n",
        "import matplotlib.pyplot as plt\n",
        "\n",
        "from src.offline_opt import solve_optimal_w\n",
        "from src.simulate_storage_dynamics import simulate_storage_dynamics\n",
        "from src.egpc import run_egpc\n",
        "\n",
        "plt.style.use('seaborn-v0_8')"
      ]
    },
    {
      "cell_type": "code",
      "execution_count": null,
      "metadata": {},
      "outputs": [
        {
          "name": "stdout",
          "output_type": "stream",
          "text": [
            "=== Solving for T=200 ===\n",
            "\n",
            "──────────────────────────────\n",
            "Optimal weight vector found for 'bursty' | cost='weighted'\n",
            "Objective value: 263.5907\n",
            "w* (rounded): [1. 0. 0. 0. 0. 0. 0. 0. 0. 0. 0. 0. 0. 0. 0. 0. 0. 0. 0. 0. 0. 0. 0. 0.\n",
            " 0. 0. 0. 0. 0. 0. 0. 0. 0. 0. 0. 0. 0. 0. 0. 0. 0. 0. 0. 0. 0. 0. 0. 0.\n",
            " 0. 0.]\n",
            "Sum(w*): 1.0000\n",
            "──────────────────────────────\n",
            "=== Solving for T=400 ===\n",
            "\n",
            "──────────────────────────────\n",
            "Optimal weight vector found for 'bursty' | cost='weighted'\n",
            "Objective value: 531.4693\n",
            "w* (rounded): [1. 0. 0. 0. 0. 0. 0. 0. 0. 0. 0. 0. 0. 0. 0. 0. 0. 0. 0. 0. 0. 0. 0. 0.\n",
            " 0. 0. 0. 0. 0. 0. 0. 0. 0. 0. 0. 0. 0. 0. 0. 0. 0. 0. 0. 0. 0. 0. 0. 0.\n",
            " 0. 0.]\n",
            "Sum(w*): 1.0000\n",
            "──────────────────────────────\n",
            "=== Solving for T=600 ===\n",
            "\n",
            "──────────────────────────────\n",
            "Optimal weight vector found for 'bursty' | cost='weighted'\n",
            "Objective value: 796.2914\n",
            "w* (rounded): [1. 0. 0. 0. 0. 0. 0. 0. 0. 0. 0. 0. 0. 0. 0. 0. 0. 0. 0. 0. 0. 0. 0. 0.\n",
            " 0. 0. 0. 0. 0. 0. 0. 0. 0. 0. 0. 0. 0. 0. 0. 0. 0. 0. 0. 0. 0. 0. 0. 0.\n",
            " 0. 0.]\n",
            "Sum(w*): 1.0000\n",
            "──────────────────────────────\n",
            "=== Solving for T=800 ===\n",
            "\n",
            "──────────────────────────────\n",
            "Optimal weight vector found for 'bursty' | cost='weighted'\n",
            "Objective value: 1096.5729\n",
            "w* (rounded): [1. 0. 0. 0. 0. 0. 0. 0. 0. 0. 0. 0. 0. 0. 0. 0. 0. 0. 0. 0. 0. 0. 0. 0.\n",
            " 0. 0. 0. 0. 0. 0. 0. 0. 0. 0. 0. 0. 0. 0. 0. 0. 0. 0. 0. 0. 0. 0. 0. 0.\n",
            " 0. 0.]\n",
            "Sum(w*): 1.0000\n",
            "──────────────────────────────\n",
            "=== Solving for T=1000 ===\n",
            "\n",
            "──────────────────────────────\n",
            "Optimal weight vector found for 'bursty' | cost='weighted'\n",
            "Objective value: 1408.5985\n",
            "w* (rounded): [1. 0. 0. 0. 0. 0. 0. 0. 0. 0. 0. 0. 0. 0. 0. 0. 0. 0. 0. 0. 0. 0. 0. 0.\n",
            " 0. 0. 0. 0. 0. 0. 0. 0. 0. 0. 0. 0. 0. 0. 0. 0. 0. 0. 0. 0. 0. 0. 0. 0.\n",
            " 0. 0.]\n",
            "Sum(w*): 1.0000\n",
            "──────────────────────────────\n",
            "=== Solving for T=1500 ===\n",
            "\n",
            "──────────────────────────────\n",
            "Optimal weight vector found for 'bursty' | cost='weighted'\n",
            "Objective value: 2069.3872\n",
            "w* (rounded): [1. 0. 0. 0. 0. 0. 0. 0. 0. 0. 0. 0. 0. 0. 0. 0. 0. 0. 0. 0. 0. 0. 0. 0.\n",
            " 0. 0. 0. 0. 0. 0. 0. 0. 0. 0. 0. 0. 0. 0. 0. 0. 0. 0. 0. 0. 0. 0. 0. 0.\n",
            " 0. 0.]\n",
            "Sum(w*): 1.0000\n",
            "──────────────────────────────\n",
            "=== Solving for T=2000 ===\n",
            "\n",
            "──────────────────────────────\n",
            "Optimal weight vector found for 'bursty' | cost='weighted'\n",
            "Objective value: 2813.3685\n",
            "w* (rounded): [1. 0. 0. 0. 0. 0. 0. 0. 0. 0. 0. 0. 0. 0. 0. 0. 0. 0. 0. 0. 0. 0. 0. 0.\n",
            " 0. 0. 0. 0. 0. 0. 0. 0. 0. 0. 0. 0. 0. 0. 0. 0. 0. 0. 0. 0. 0. 0. 0. 0.\n",
            " 0. 0.]\n",
            "Sum(w*): 1.0000\n",
            "──────────────────────────────\n",
            "=== Solving for T=3000 ===\n",
            "\n",
            "──────────────────────────────\n",
            "Optimal weight vector found for 'bursty' | cost='weighted'\n",
            "Objective value: 3982.1534\n",
            "w* (rounded): [1. 0. 0. 0. 0. 0. 0. 0. 0. 0. 0. 0. 0. 0. 0. 0. 0. 0. 0. 0. 0. 0. 0. 0.\n",
            " 0. 0. 0. 0. 0. 0. 0. 0. 0. 0. 0. 0. 0. 0. 0. 0. 0. 0. 0. 0. 0. 0. 0. 0.\n",
            " 0. 0.]\n",
            "Sum(w*): 1.0000\n",
            "──────────────────────────────\n",
            "=== Solving for T=30000 ===\n"
          ]
        }
      ],
      "source": [
        "Ts = [200, 400, 600, 800, 1000, 1500, 2000, 3000]\n",
        "H = 50\n",
        "kappa = 0.02\n",
        "a_mode = 'bursty'\n",
        "\n",
        "cost_key = 'weighted'\n",
        "L = 4 + 0.1/kappa\n",
        "\n",
        "\n",
        "results = []\n",
        "\n",
        "for T in Ts:\n",
        "    eta = np.sqrt(np.log(H)/T/(1/2 + 1/kappa))/L\n",
        "    \n",
        "    print(f\"=== Solving for T={T} ===\")\n",
        "    opt_data = solve_optimal_w(a_mode=a_mode, cost_key=cost_key, H=H, T=T)\n",
        "    opt_sim = simulate_storage_dynamics(\n",
        "        opt_data['Phi'],\n",
        "        opt_data['Psi'],\n",
        "        opt_data['a'],\n",
        "        opt_data['w_star'],\n",
        "        cost_fn=opt_data['cost_fn'],\n",
        "        cost_kwargs=opt_data['cost_kwargs'],\n",
        "    )\n",
        "    egpc_result = run_egpc(\n",
        "        a_mode=a_mode,\n",
        "        cost_key=cost_key,\n",
        "        eta=eta,\n",
        "        H=H,\n",
        "        T=T,\n",
        "        kappa=kappa,\n",
        "        cost_kwargs=opt_data['cost_kwargs'],\n",
        "    )\n",
        "    results.append({\n",
        "        'T': T,\n",
        "        'opt_total': opt_sim['total_cost'],\n",
        "        'egpc_total': egpc_result['total_cost'],\n",
        "        'diff': egpc_result['total_cost'] - opt_sim['total_cost'],\n",
        "    })"
      ]
    },
    {
      "cell_type": "code",
      "execution_count": null,
      "metadata": {},
      "outputs": [
        {
          "name": "stdout",
          "output_type": "stream",
          "text": [
            "     T |    opt_total |   egpc_total |         diff\n",
            "-------------------------------------------------------\n",
            "   200 |      263.591 |      333.052 |       69.462\n",
            "   400 |      531.469 |      660.530 |      129.061\n",
            "   600 |      796.291 |     1004.131 |      207.839\n",
            "   800 |     1096.573 |     1351.452 |      254.879\n",
            "  1000 |     1408.599 |     1686.805 |      278.207\n",
            "  1500 |     2069.387 |     2502.795 |      433.407\n",
            "  2000 |     2813.369 |     3348.889 |      535.521\n",
            "  3000 |     3982.153 |     4892.584 |      910.430\n"
          ]
        }
      ],
      "source": [
        "print(f\"{'T':>6} | {'opt_total':>12} | {'egpc_total':>12} | {'diff':>12}\")\n",
        "print('-' * 55)\n",
        "for row in results:\n",
        "    print(f\"{row['T']:6d} | {row['opt_total']:12.3f} | {row['egpc_total']:12.3f} | {row['diff']:12.3f}\")"
      ]
    },
    {
      "cell_type": "code",
      "execution_count": null,
      "metadata": {},
      "outputs": [
        {
          "data": {
            "image/png": "[encoded data removed]",
            "text/plain": [
              "<Figure size 600x400 with 1 Axes>"
            ]
          },
          "metadata": {},
          "output_type": "display_data"
        }
      ],
      "source": [
        "Ts_vals = [row['T'] for row in results]\n",
        "diffs = [row['diff'] for row in results]\n",
        "\n",
        "plt.figure(figsize=(6, 4))\n",
        "plt.plot(Ts_vals, diffs, marker='o')\n",
        "    \n",
        "\n",
        "plt.plot(Ts_vals, 2*L*np.sqrt(np.log(H)*np.array(Ts_vals)*(1/2 + 1/kappa)), marker='*')\n",
        "plt.xlabel('Horizon length T')\n",
        "plt.ylabel('Cost difference (EGPC - optimal)')\n",
        "plt.title('Cost gap vs horizon length')\n",
        "plt.grid(True)\n",
        "plt.tight_layout()\n",
        "plt.show()"
      ]
    }
  ],
  "metadata": {
    "kernelspec": {
      "display_name": ".venv",
      "language": "python",
      "name": "python3"
    },
    "language_info": {
      "codemirror_mode": {
        "name": "ipython",
        "version": 3
      },
      "file_extension": ".py",
      "mimetype": "text/x-python",
      "name": "python",
      "nbconvert_exporter": "python",
      "pygments_lexer": "ipython3",
      "version": "3.12.3"
    }
  },
  "nbformat": 4,
  "nbformat_minor": 5
}
